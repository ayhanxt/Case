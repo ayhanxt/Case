{
 "cells": [
  {
   "cell_type": "code",
   "execution_count": 1,
   "id": "5a2fccff",
   "metadata": {},
   "outputs": [],
   "source": [
    "import pandas as pd\n",
    "import numpy as np\n",
    "import matplotlib.pyplot as plt\n",
    "from sklearn.metrics import roc_auc_score\n",
    "from sklearn.model_selection import train_test_split\n",
    "from sklearn.linear_model import LogisticRegression\n",
    "from sklearn.metrics import accuracy_score, precision_score, recall_score, f1_score, roc_auc_score\n",
    "from sklearn.ensemble import RandomForestClassifier\n",
    "from sklearn.tree import DecisionTreeClassifier"
   ]
  },
  {
   "cell_type": "code",
   "execution_count": 2,
   "id": "0f40361e",
   "metadata": {},
   "outputs": [],
   "source": [
    "df = pd.read_excel(\"C:\\\\Users\\\\PC\\\\Desktop\\\\Case's\\\\Garanti BBVA\\\\Case_Data 3-4-5 _v2.xlsx\")"
   ]
  },
  {
   "cell_type": "code",
   "execution_count": 3,
   "id": "5142f112",
   "metadata": {},
   "outputs": [
    {
     "data": {
      "text/html": [
       "<div>\n",
       "<style scoped>\n",
       "    .dataframe tbody tr th:only-of-type {\n",
       "        vertical-align: middle;\n",
       "    }\n",
       "\n",
       "    .dataframe tbody tr th {\n",
       "        vertical-align: top;\n",
       "    }\n",
       "\n",
       "    .dataframe thead th {\n",
       "        text-align: right;\n",
       "    }\n",
       "</style>\n",
       "<table border=\"1\" class=\"dataframe\">\n",
       "  <thead>\n",
       "    <tr style=\"text-align: right;\">\n",
       "      <th></th>\n",
       "      <th>Dummy_id</th>\n",
       "      <th>EAD</th>\n",
       "      <th>Kur_bilgisi</th>\n",
       "      <th>Segment</th>\n",
       "      <th>Default_Flag</th>\n",
       "      <th>Product_Type</th>\n",
       "      <th>BET_Score</th>\n",
       "      <th>Bank_Score</th>\n",
       "    </tr>\n",
       "  </thead>\n",
       "  <tbody>\n",
       "    <tr>\n",
       "      <th>0</th>\n",
       "      <td>4700</td>\n",
       "      <td>1399.355804</td>\n",
       "      <td>TRL</td>\n",
       "      <td>BA</td>\n",
       "      <td>0</td>\n",
       "      <td>5</td>\n",
       "      <td>1.0256</td>\n",
       "      <td>6.9583</td>\n",
       "    </tr>\n",
       "    <tr>\n",
       "      <th>1</th>\n",
       "      <td>3309</td>\n",
       "      <td>489.412761</td>\n",
       "      <td>TRL</td>\n",
       "      <td>BB</td>\n",
       "      <td>0</td>\n",
       "      <td>2</td>\n",
       "      <td>1.0481</td>\n",
       "      <td>3.2632</td>\n",
       "    </tr>\n",
       "    <tr>\n",
       "      <th>2</th>\n",
       "      <td>1333</td>\n",
       "      <td>6215.708466</td>\n",
       "      <td>TRL</td>\n",
       "      <td>SB</td>\n",
       "      <td>0</td>\n",
       "      <td>.</td>\n",
       "      <td>1.0911</td>\n",
       "      <td>9.9942</td>\n",
       "    </tr>\n",
       "    <tr>\n",
       "      <th>3</th>\n",
       "      <td>4920</td>\n",
       "      <td>311.369747</td>\n",
       "      <td>TRL</td>\n",
       "      <td>BA</td>\n",
       "      <td>0</td>\n",
       "      <td>3</td>\n",
       "      <td>1.0951</td>\n",
       "      <td>3.1281</td>\n",
       "    </tr>\n",
       "    <tr>\n",
       "      <th>4</th>\n",
       "      <td>4943</td>\n",
       "      <td>554.593179</td>\n",
       "      <td>TRL</td>\n",
       "      <td>BA</td>\n",
       "      <td>0</td>\n",
       "      <td>3</td>\n",
       "      <td>1.1932</td>\n",
       "      <td>4.7455</td>\n",
       "    </tr>\n",
       "  </tbody>\n",
       "</table>\n",
       "</div>"
      ],
      "text/plain": [
       "   Dummy_id          EAD Kur_bilgisi Segment  Default_Flag Product_Type  \\\n",
       "0      4700  1399.355804         TRL      BA             0            5   \n",
       "1      3309   489.412761         TRL      BB             0            2   \n",
       "2      1333  6215.708466         TRL      SB             0            .   \n",
       "3      4920   311.369747         TRL      BA             0            3   \n",
       "4      4943   554.593179         TRL      BA             0            3   \n",
       "\n",
       "  BET_Score  Bank_Score  \n",
       "0    1.0256      6.9583  \n",
       "1    1.0481      3.2632  \n",
       "2    1.0911      9.9942  \n",
       "3    1.0951      3.1281  \n",
       "4    1.1932      4.7455  "
      ]
     },
     "execution_count": 3,
     "metadata": {},
     "output_type": "execute_result"
    }
   ],
   "source": [
    "df.head()"
   ]
  },
  {
   "cell_type": "code",
   "execution_count": 4,
   "id": "ec138cfd",
   "metadata": {},
   "outputs": [],
   "source": [
    "df.loc[df['Kur_bilgisi'] == 'USD', 'EAD'] *= 20.5\n",
    "df.loc[df['Kur_bilgisi'] == 'USD', 'Kur_bilgisi'] = 'TRL'\n",
    "\n",
    "df.loc[df['Kur_bilgisi'] == 'EUR', 'EAD'] *= 22.8\n",
    "df.loc[df['Kur_bilgisi'] == 'EUR', 'Kur_bilgisi'] = 'TRL'"
   ]
  },
  {
   "cell_type": "code",
   "execution_count": 5,
   "id": "f0c77826",
   "metadata": {},
   "outputs": [],
   "source": [
    "df = df[(df['Default_Flag'] != 2) & (df['Default_Flag'] != 99)]"
   ]
  },
  {
   "cell_type": "code",
   "execution_count": 6,
   "id": "52e41e76",
   "metadata": {},
   "outputs": [],
   "source": [
    "df['Product_Type'] = df['Product_Type'].replace('.', np.nan)\n",
    "df['BET_Score'] = df['BET_Score'].replace('.', np.nan)"
   ]
  },
  {
   "cell_type": "code",
   "execution_count": 7,
   "id": "7a8635d8",
   "metadata": {},
   "outputs": [],
   "source": [
    "bet_df = df[df['BET_Score'].notna()]"
   ]
  },
  {
   "cell_type": "code",
   "execution_count": 8,
   "id": "f51bfc3b",
   "metadata": {},
   "outputs": [
    {
     "name": "stdout",
     "output_type": "stream",
     "text": [
      "<class 'pandas.core.frame.DataFrame'>\n",
      "Int64Index: 7909 entries, 0 to 7915\n",
      "Data columns (total 8 columns):\n",
      " #   Column        Non-Null Count  Dtype  \n",
      "---  ------        --------------  -----  \n",
      " 0   Dummy_id      7909 non-null   int64  \n",
      " 1   EAD           7909 non-null   float64\n",
      " 2   Kur_bilgisi   7909 non-null   object \n",
      " 3   Segment       7909 non-null   object \n",
      " 4   Default_Flag  7909 non-null   int64  \n",
      " 5   Product_Type  5617 non-null   float64\n",
      " 6   BET_Score     7909 non-null   float64\n",
      " 7   Bank_Score    7909 non-null   float64\n",
      "dtypes: float64(4), int64(2), object(2)\n",
      "memory usage: 556.1+ KB\n"
     ]
    }
   ],
   "source": [
    "bet_df.info()"
   ]
  },
  {
   "cell_type": "code",
   "execution_count": 9,
   "id": "9034571c",
   "metadata": {},
   "outputs": [
    {
     "name": "stdout",
     "output_type": "stream",
     "text": [
      "Model Performansı:\n",
      "Accuracy: 0.9152970922882427\n",
      "Precision: 1.0\n",
      "Recall: 0.014705882352941176\n",
      "F1 Score: 0.028985507246376812\n",
      "ROC AUC Score: 0.7938481409161174\n"
     ]
    }
   ],
   "source": [
    "### LOJİSTİK REGRESYON YÖNTEMİ ###\n",
    "\n",
    "# Veri setini hazırlama\n",
    "bank_df = df.copy()  # Banka skor kartını temsil eden veri seti\n",
    "bet_df = bank_df[bank_df['BET_Score'].notna()].copy()  # BET firmasının skor kartını temsil eden veri seti\n",
    "\n",
    "# Veri setlerini birleştirme\n",
    "merged_df = pd.merge(bet_df, bank_df, on='Dummy_id', how='inner')\n",
    "\n",
    "# Bağımlı ve bağımsız değişkenleri belirleme\n",
    "X = merged_df[['BET_Score_x', 'Bank_Score_x']]  # Bağımsız değişkenler\n",
    "y = merged_df['Default_Flag_x']  # Bağımlı değişken\n",
    "\n",
    "# Veri bölme\n",
    "X_train, X_test, y_train, y_test = train_test_split(X, y, test_size=0.2, random_state=42)\n",
    "\n",
    "# Model oluşturma\n",
    "model = LogisticRegression()\n",
    "model.fit(X_train, y_train)\n",
    "\n",
    "# Tahmin yapma\n",
    "y_pred = model.predict(X_test)\n",
    "y_pred_proba = model.predict_proba(X_test)[:, 1]\n",
    "\n",
    "\n",
    "# Model performansını değerlendirme\n",
    "accuracy = accuracy_score(y_test, y_pred)\n",
    "precision = precision_score(y_test, y_pred)\n",
    "recall = recall_score(y_test, y_pred)\n",
    "f1 = f1_score(y_test, y_pred)\n",
    "roc_auc = roc_auc_score(y_test, y_pred_proba)\n",
    "\n",
    "# Sonuçları yazdırma\n",
    "print(\"Model Performansı:\")\n",
    "print(\"Accuracy:\", accuracy)\n",
    "print(\"Precision:\", precision)\n",
    "print(\"Recall:\", recall)\n",
    "print(\"F1 Score:\", f1)\n",
    "print(\"ROC AUC Score:\", roc_auc)\n"
   ]
  },
  {
   "cell_type": "code",
   "execution_count": 10,
   "id": "72994c74",
   "metadata": {},
   "outputs": [
    {
     "name": "stdout",
     "output_type": "stream",
     "text": [
      "Model Performansı:\n",
      "Accuracy: 0.9127686472819216\n",
      "Precision: 0.4772727272727273\n",
      "Recall: 0.15441176470588236\n",
      "F1 Score: 0.23333333333333334\n",
      "ROC AUC Score: 0.7501728907330567\n"
     ]
    }
   ],
   "source": [
    "### RANDOM FOREST YÖNTEMİ ###\n",
    "\n",
    "# Veri setini hazırlama\n",
    "bank_df = df.copy()  # Banka skor kartını temsil eden veri seti\n",
    "bet_df = bank_df[bank_df['BET_Score'].notna()].copy()  # BET firmasının skor kartını temsil eden veri seti\n",
    "\n",
    "# Veri setlerini birleştirme\n",
    "merged_df = pd.merge(bet_df, bank_df, on='Dummy_id', how='inner')\n",
    "\n",
    "# Bağımlı ve bağımsız değişkenleri belirleme\n",
    "X = merged_df[['BET_Score_x', 'Bank_Score_x']]  # Bağımsız değişkenler\n",
    "y = merged_df['Default_Flag_x']  # Bağımlı değişken\n",
    "\n",
    "# Veri bölme\n",
    "X_train, X_test, y_train, y_test = train_test_split(X, y, test_size=0.2, random_state=42)\n",
    "\n",
    "# Model oluşturma\n",
    "model = RandomForestClassifier()\n",
    "model.fit(X_train, y_train)\n",
    "\n",
    "# Tahmin yapma\n",
    "y_pred = model.predict(X_test)\n",
    "y_pred_proba = model.predict_proba(X_test)[:, 1]\n",
    "\n",
    "# Model performansını değerlendirme\n",
    "accuracy = accuracy_score(y_test, y_pred)\n",
    "precision = precision_score(y_test, y_pred)\n",
    "recall = recall_score(y_test, y_pred)\n",
    "f1 = f1_score(y_test, y_pred)\n",
    "roc_auc = roc_auc_score(y_test, y_pred_proba)\n",
    "\n",
    "# Sonuçları yazdırma\n",
    "print(\"Model Performansı:\")\n",
    "print(\"Accuracy:\", accuracy)\n",
    "print(\"Precision:\", precision)\n",
    "print(\"Recall:\", recall)\n",
    "print(\"F1 Score:\", f1)\n",
    "print(\"ROC AUC Score:\", roc_auc)\n"
   ]
  },
  {
   "cell_type": "code",
   "execution_count": 11,
   "id": "c5dc45a5",
   "metadata": {},
   "outputs": [
    {
     "name": "stdout",
     "output_type": "stream",
     "text": [
      "Model Performansı:\n",
      "Accuracy: 0.8577749683944375\n",
      "Precision: 0.1888111888111888\n",
      "Recall: 0.19852941176470587\n",
      "F1 Score: 0.1935483870967742\n",
      "ROC AUC Score: 0.5591540558131965\n"
     ]
    }
   ],
   "source": [
    "### KARAR AĞAÇLARI YÖNTEMİ ###\n",
    "\n",
    "# Veri setini hazırlama\n",
    "bank_df = df.copy()  # Banka skor kartını temsil eden veri seti\n",
    "bet_df = bank_df[bank_df['BET_Score'].notna()].copy()  # BET firmasının skor kartını temsil eden veri seti\n",
    "\n",
    "# Veri setlerini birleştirme\n",
    "merged_df = pd.merge(bet_df, bank_df, on='Dummy_id', how='inner')\n",
    "\n",
    "# Bağımlı ve bağımsız değişkenleri belirleme\n",
    "X = merged_df[['BET_Score_x', 'Bank_Score_x']]  # Bağımsız değişkenler\n",
    "y = merged_df['Default_Flag_x']  # Bağımlı değişken\n",
    "\n",
    "# Veri bölme\n",
    "X_train, X_test, y_train, y_test = train_test_split(X, y, test_size=0.2, random_state=42)\n",
    "\n",
    "# Model oluşturma\n",
    "model = DecisionTreeClassifier()\n",
    "model.fit(X_train, y_train)\n",
    "\n",
    "# Tahmin yapma\n",
    "y_pred = model.predict(X_test)\n",
    "y_pred_proba = model.predict_proba(X_test)[:, 1]\n",
    "\n",
    "# Model performansını değerlendirme\n",
    "accuracy = accuracy_score(y_test, y_pred)\n",
    "precision = precision_score(y_test, y_pred)\n",
    "recall = recall_score(y_test, y_pred)\n",
    "f1 = f1_score(y_test, y_pred)\n",
    "roc_auc = roc_auc_score(y_test, y_pred_proba)\n",
    "\n",
    "# Sonuçları yazdırma\n",
    "print(\"Model Performansı:\")\n",
    "print(\"Accuracy:\", accuracy)\n",
    "print(\"Precision:\", precision)\n",
    "print(\"Recall:\", recall)\n",
    "print(\"F1 Score:\", f1)\n",
    "print(\"ROC AUC Score:\", roc_auc)\n"
   ]
  },
  {
   "cell_type": "code",
   "execution_count": null,
   "id": "c6dff9cc",
   "metadata": {},
   "outputs": [],
   "source": []
  }
 ],
 "metadata": {
  "kernelspec": {
   "display_name": "Python 3 (ipykernel)",
   "language": "python",
   "name": "python3"
  },
  "language_info": {
   "codemirror_mode": {
    "name": "ipython",
    "version": 3
   },
   "file_extension": ".py",
   "mimetype": "text/x-python",
   "name": "python",
   "nbconvert_exporter": "python",
   "pygments_lexer": "ipython3",
   "version": "3.9.12"
  }
 },
 "nbformat": 4,
 "nbformat_minor": 5
}
