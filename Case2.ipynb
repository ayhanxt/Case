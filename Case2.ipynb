{
 "cells": [
  {
   "cell_type": "code",
   "execution_count": 1,
   "id": "21b8dff3",
   "metadata": {},
   "outputs": [],
   "source": [
    "import pandas as pd\n",
    "import numpy as np\n",
    "import seaborn as sns\n",
    "import matplotlib.pyplot as plt"
   ]
  },
  {
   "cell_type": "markdown",
   "id": "d0d42c1e",
   "metadata": {},
   "source": [
    "# CASE 2"
   ]
  },
  {
   "cell_type": "code",
   "execution_count": 2,
   "id": "61789d52",
   "metadata": {},
   "outputs": [],
   "source": [
    "df = pd.read_excel('C:\\\\Users\\\\PC\\\\Desktop\\\\Case_Data2.xlsx')"
   ]
  },
  {
   "cell_type": "markdown",
   "id": "41bd04f8",
   "metadata": {},
   "source": [
    "### Verinin incelenmesi"
   ]
  },
  {
   "cell_type": "code",
   "execution_count": 3,
   "id": "5764952b",
   "metadata": {},
   "outputs": [
    {
     "data": {
      "text/html": [
       "<div>\n",
       "<style scoped>\n",
       "    .dataframe tbody tr th:only-of-type {\n",
       "        vertical-align: middle;\n",
       "    }\n",
       "\n",
       "    .dataframe tbody tr th {\n",
       "        vertical-align: top;\n",
       "    }\n",
       "\n",
       "    .dataframe thead th {\n",
       "        text-align: right;\n",
       "    }\n",
       "</style>\n",
       "<table border=\"1\" class=\"dataframe\">\n",
       "  <thead>\n",
       "    <tr style=\"text-align: right;\">\n",
       "      <th></th>\n",
       "      <th>CUST_ID</th>\n",
       "      <th>PERIOD</th>\n",
       "      <th>DUE_DATE</th>\n",
       "      <th>PAID_DATE</th>\n",
       "      <th>AMOUNT</th>\n",
       "    </tr>\n",
       "  </thead>\n",
       "  <tbody>\n",
       "    <tr>\n",
       "      <th>0</th>\n",
       "      <td>1</td>\n",
       "      <td>1</td>\n",
       "      <td>2015-11-07</td>\n",
       "      <td>2016-01-12 00:00:00</td>\n",
       "      <td>4513</td>\n",
       "    </tr>\n",
       "    <tr>\n",
       "      <th>1</th>\n",
       "      <td>1</td>\n",
       "      <td>2</td>\n",
       "      <td>2015-12-07</td>\n",
       "      <td>.</td>\n",
       "      <td>3327</td>\n",
       "    </tr>\n",
       "    <tr>\n",
       "      <th>2</th>\n",
       "      <td>2</td>\n",
       "      <td>1</td>\n",
       "      <td>2015-11-05</td>\n",
       "      <td>2015-12-07 00:00:00</td>\n",
       "      <td>4296</td>\n",
       "    </tr>\n",
       "    <tr>\n",
       "      <th>3</th>\n",
       "      <td>2</td>\n",
       "      <td>2</td>\n",
       "      <td>2015-12-05</td>\n",
       "      <td>2016-03-09 00:00:00</td>\n",
       "      <td>4809</td>\n",
       "    </tr>\n",
       "    <tr>\n",
       "      <th>4</th>\n",
       "      <td>3</td>\n",
       "      <td>1</td>\n",
       "      <td>2015-11-04</td>\n",
       "      <td>2015-12-22 00:00:00</td>\n",
       "      <td>2983</td>\n",
       "    </tr>\n",
       "  </tbody>\n",
       "</table>\n",
       "</div>"
      ],
      "text/plain": [
       "   CUST_ID  PERIOD   DUE_DATE            PAID_DATE  AMOUNT\n",
       "0        1       1 2015-11-07  2016-01-12 00:00:00    4513\n",
       "1        1       2 2015-12-07                    .    3327\n",
       "2        2       1 2015-11-05  2015-12-07 00:00:00    4296\n",
       "3        2       2 2015-12-05  2016-03-09 00:00:00    4809\n",
       "4        3       1 2015-11-04  2015-12-22 00:00:00    2983"
      ]
     },
     "execution_count": 3,
     "metadata": {},
     "output_type": "execute_result"
    }
   ],
   "source": [
    "df.head()"
   ]
  },
  {
   "cell_type": "code",
   "execution_count": 4,
   "id": "4738488f",
   "metadata": {},
   "outputs": [
    {
     "name": "stdout",
     "output_type": "stream",
     "text": [
      "<class 'pandas.core.frame.DataFrame'>\n",
      "RangeIndex: 331 entries, 0 to 330\n",
      "Data columns (total 5 columns):\n",
      " #   Column     Non-Null Count  Dtype         \n",
      "---  ------     --------------  -----         \n",
      " 0   CUST_ID    331 non-null    int64         \n",
      " 1   PERIOD     331 non-null    int64         \n",
      " 2   DUE_DATE   331 non-null    datetime64[ns]\n",
      " 3   PAID_DATE  331 non-null    object        \n",
      " 4   AMOUNT     331 non-null    int64         \n",
      "dtypes: datetime64[ns](1), int64(3), object(1)\n",
      "memory usage: 13.1+ KB\n"
     ]
    }
   ],
   "source": [
    "df.info()"
   ]
  },
  {
   "cell_type": "code",
   "execution_count": 5,
   "id": "c4417c0f",
   "metadata": {
    "scrolled": true
   },
   "outputs": [
    {
     "data": {
      "text/plain": [
       "array([  1,   2,   3,   4,   5,   6,   7,   8,   9,  10,  11,  12,  13,\n",
       "        14,  15,  16,  17,  18,  19,  20,  21,  22,  23,  24,  25,  26,\n",
       "        27,  28,  29,  30,  31,  32,  33,  34,  35,  36,  37,  38,  39,\n",
       "        40,  41,  42,  43,  44,  45,  46,  47,  48,  49,  50,  51,  52,\n",
       "        53,  54,  55,  56,  57,  58,  59,  60,  61,  62,  63,  64,  65,\n",
       "        66,  67,  68,  69,  70,  71,  72,  73,  74,  75,  76,  77,  78,\n",
       "        79,  80,  81,  82,  83,  84,  85,  86,  87,  88,  89,  90,  91,\n",
       "        92,  93,  94,  95,  96,  97,  98,  99, 100, 101, 102, 103, 104,\n",
       "       105, 106, 107, 108, 109, 110, 111, 112, 113, 114, 115, 116, 117,\n",
       "       118, 119, 120, 121, 122, 123, 124, 125, 126, 127, 128, 129, 130,\n",
       "       131, 132, 133, 134, 135, 136, 137, 138, 139, 140, 141, 142, 143,\n",
       "       144, 145, 146, 147, 148, 149, 150, 151, 152, 153, 154, 155, 156,\n",
       "       157, 158, 159, 160, 161, 162, 163, 164], dtype=int64)"
      ]
     },
     "execution_count": 5,
     "metadata": {},
     "output_type": "execute_result"
    }
   ],
   "source": [
    "df[\"CUST_ID\"].unique()"
   ]
  },
  {
   "cell_type": "code",
   "execution_count": 6,
   "id": "e7c19c54",
   "metadata": {},
   "outputs": [
    {
     "data": {
      "text/plain": [
       "array([1, 2], dtype=int64)"
      ]
     },
     "execution_count": 6,
     "metadata": {},
     "output_type": "execute_result"
    }
   ],
   "source": [
    "df[\"PERIOD\"].unique()"
   ]
  },
  {
   "cell_type": "code",
   "execution_count": 7,
   "id": "73378ca1",
   "metadata": {
    "scrolled": true
   },
   "outputs": [
    {
     "data": {
      "text/plain": [
       "array(['2015-11-07T00:00:00.000000000', '2015-12-07T00:00:00.000000000',\n",
       "       '2015-11-05T00:00:00.000000000', '2015-12-05T00:00:00.000000000',\n",
       "       '2015-11-04T00:00:00.000000000', '2015-12-04T00:00:00.000000000',\n",
       "       '2015-11-01T00:00:00.000000000', '2015-12-01T00:00:00.000000000',\n",
       "       '2015-11-06T00:00:00.000000000', '2015-12-06T00:00:00.000000000',\n",
       "       '2015-11-03T00:00:00.000000000', '2015-12-03T00:00:00.000000000',\n",
       "       '2015-11-11T00:00:00.000000000', '2015-12-11T00:00:00.000000000',\n",
       "       '2015-11-14T00:00:00.000000000', '2015-12-14T00:00:00.000000000',\n",
       "       '2015-11-09T00:00:00.000000000', '2015-12-09T00:00:00.000000000',\n",
       "       '2015-11-08T00:00:00.000000000', '2015-12-08T00:00:00.000000000',\n",
       "       '2015-11-02T00:00:00.000000000', '2015-12-02T00:00:00.000000000',\n",
       "       '2015-11-23T00:00:00.000000000', '2015-12-23T00:00:00.000000000',\n",
       "       '2015-11-18T00:00:00.000000000', '2015-12-18T00:00:00.000000000',\n",
       "       '2015-11-20T00:00:00.000000000', '2015-12-20T00:00:00.000000000',\n",
       "       '2015-11-19T00:00:00.000000000', '2015-12-19T00:00:00.000000000',\n",
       "       '2015-11-27T00:00:00.000000000', '2015-12-27T00:00:00.000000000',\n",
       "       '2015-11-17T00:00:00.000000000', '2015-12-17T00:00:00.000000000',\n",
       "       '2015-11-22T00:00:00.000000000', '2015-12-22T00:00:00.000000000',\n",
       "       '2015-11-28T00:00:00.000000000', '2015-12-28T00:00:00.000000000',\n",
       "       '2015-11-13T00:00:00.000000000', '2015-12-13T00:00:00.000000000',\n",
       "       '2015-11-10T00:00:00.000000000', '2015-12-10T00:00:00.000000000',\n",
       "       '2015-11-29T00:00:00.000000000', '2015-12-29T00:00:00.000000000',\n",
       "       '2015-11-15T00:00:00.000000000', '2015-12-15T00:00:00.000000000',\n",
       "       '2015-11-26T00:00:00.000000000', '2015-12-26T00:00:00.000000000',\n",
       "       '2015-11-16T00:00:00.000000000', '2015-12-16T00:00:00.000000000',\n",
       "       '2015-11-24T00:00:00.000000000', '2015-12-24T00:00:00.000000000',\n",
       "       '2015-11-12T00:00:00.000000000', '2015-12-12T00:00:00.000000000',\n",
       "       '2015-11-25T00:00:00.000000000', '2015-12-25T00:00:00.000000000',\n",
       "       '2015-11-21T00:00:00.000000000', '2015-12-21T00:00:00.000000000'],\n",
       "      dtype='datetime64[ns]')"
      ]
     },
     "execution_count": 7,
     "metadata": {},
     "output_type": "execute_result"
    }
   ],
   "source": [
    "df[\"DUE_DATE\"].unique()"
   ]
  },
  {
   "cell_type": "code",
   "execution_count": 8,
   "id": "1be75efa",
   "metadata": {},
   "outputs": [
    {
     "data": {
      "text/plain": [
       "array([datetime.datetime(2016, 1, 12, 0, 0), '.',\n",
       "       datetime.datetime(2015, 12, 7, 0, 0),\n",
       "       datetime.datetime(2016, 3, 9, 0, 0),\n",
       "       datetime.datetime(2015, 12, 22, 0, 0),\n",
       "       datetime.datetime(2016, 2, 28, 0, 0),\n",
       "       datetime.datetime(2015, 11, 7, 0, 0),\n",
       "       datetime.datetime(2015, 11, 1, 0, 0),\n",
       "       datetime.datetime(2015, 12, 1, 0, 0),\n",
       "       datetime.datetime(2015, 11, 4, 0, 0),\n",
       "       datetime.datetime(2015, 12, 4, 0, 0),\n",
       "       datetime.datetime(2016, 1, 20, 0, 0),\n",
       "       datetime.datetime(2016, 3, 4, 0, 0),\n",
       "       datetime.datetime(2016, 2, 10, 0, 0),\n",
       "       datetime.datetime(2015, 11, 11, 0, 0),\n",
       "       datetime.datetime(2015, 12, 11, 0, 0),\n",
       "       datetime.datetime(2015, 11, 14, 0, 0),\n",
       "       datetime.datetime(2015, 12, 14, 0, 0),\n",
       "       datetime.datetime(2016, 2, 27, 0, 0),\n",
       "       datetime.datetime(2015, 12, 8, 0, 0),\n",
       "       datetime.datetime(2016, 1, 21, 0, 0),\n",
       "       datetime.datetime(2015, 12, 5, 0, 0),\n",
       "       datetime.datetime(2016, 2, 9, 0, 0),\n",
       "       datetime.datetime(2015, 11, 28, 0, 0),\n",
       "       datetime.datetime(2016, 1, 28, 0, 0),\n",
       "       datetime.datetime(2016, 1, 14, 0, 0),\n",
       "       datetime.datetime(2016, 2, 4, 0, 0),\n",
       "       datetime.datetime(2015, 12, 28, 0, 0),\n",
       "       datetime.datetime(2016, 2, 12, 0, 0),\n",
       "       datetime.datetime(2015, 11, 23, 0, 0),\n",
       "       datetime.datetime(2015, 12, 23, 0, 0),\n",
       "       datetime.datetime(2016, 1, 11, 0, 0),\n",
       "       datetime.datetime(2016, 3, 5, 0, 0),\n",
       "       datetime.datetime(2015, 11, 20, 0, 0),\n",
       "       datetime.datetime(2015, 12, 20, 0, 0),\n",
       "       datetime.datetime(2016, 2, 26, 0, 0),\n",
       "       datetime.datetime(2015, 12, 21, 0, 0),\n",
       "       datetime.datetime(2015, 12, 16, 0, 0),\n",
       "       datetime.datetime(2015, 11, 17, 0, 0),\n",
       "       datetime.datetime(2015, 12, 17, 0, 0),\n",
       "       datetime.datetime(2016, 1, 26, 0, 0),\n",
       "       datetime.datetime(2016, 3, 2, 0, 0),\n",
       "       datetime.datetime(2016, 1, 16, 0, 0),\n",
       "       datetime.datetime(2016, 2, 18, 0, 0),\n",
       "       datetime.datetime(2016, 1, 19, 0, 0),\n",
       "       datetime.datetime(2015, 11, 10, 0, 0),\n",
       "       datetime.datetime(2015, 12, 24, 0, 0),\n",
       "       datetime.datetime(2016, 1, 25, 0, 0),\n",
       "       datetime.datetime(2015, 11, 19, 0, 0),\n",
       "       datetime.datetime(2015, 12, 19, 0, 0),\n",
       "       datetime.datetime(2016, 2, 6, 0, 0),\n",
       "       datetime.datetime(2015, 11, 13, 0, 0),\n",
       "       datetime.datetime(2015, 12, 13, 0, 0),\n",
       "       datetime.datetime(2016, 1, 13, 0, 0),\n",
       "       datetime.datetime(2015, 12, 6, 0, 0),\n",
       "       datetime.datetime(2016, 2, 14, 0, 0),\n",
       "       datetime.datetime(2015, 11, 3, 0, 0),\n",
       "       datetime.datetime(2015, 12, 3, 0, 0),\n",
       "       datetime.datetime(2015, 12, 10, 0, 0),\n",
       "       datetime.datetime(2016, 1, 17, 0, 0),\n",
       "       datetime.datetime(2015, 11, 15, 0, 0),\n",
       "       datetime.datetime(2015, 12, 15, 0, 0),\n",
       "       datetime.datetime(2015, 11, 5, 0, 0),\n",
       "       datetime.datetime(2015, 11, 6, 0, 0),\n",
       "       datetime.datetime(2015, 11, 26, 0, 0),\n",
       "       datetime.datetime(2015, 12, 26, 0, 0),\n",
       "       datetime.datetime(2015, 11, 18, 0, 0),\n",
       "       datetime.datetime(2015, 12, 18, 0, 0),\n",
       "       datetime.datetime(2015, 11, 29, 0, 0),\n",
       "       datetime.datetime(2015, 12, 29, 0, 0),\n",
       "       datetime.datetime(2016, 1, 31, 0, 0),\n",
       "       datetime.datetime(2016, 1, 29, 0, 0),\n",
       "       datetime.datetime(2016, 1, 2, 0, 0),\n",
       "       datetime.datetime(2016, 2, 5, 0, 0),\n",
       "       datetime.datetime(2015, 11, 16, 0, 0),\n",
       "       datetime.datetime(2016, 2, 17, 0, 0),\n",
       "       datetime.datetime(2015, 11, 24, 0, 0),\n",
       "       datetime.datetime(2015, 12, 9, 0, 0),\n",
       "       datetime.datetime(2015, 11, 25, 0, 0),\n",
       "       datetime.datetime(2015, 12, 25, 0, 0),\n",
       "       datetime.datetime(2016, 1, 24, 0, 0),\n",
       "       datetime.datetime(2015, 12, 31, 0, 0),\n",
       "       datetime.datetime(2016, 2, 19, 0, 0),\n",
       "       datetime.datetime(2015, 11, 12, 0, 0),\n",
       "       datetime.datetime(2015, 12, 12, 0, 0),\n",
       "       datetime.datetime(2016, 1, 22, 0, 0),\n",
       "       datetime.datetime(2015, 12, 27, 0, 0),\n",
       "       datetime.datetime(2016, 3, 7, 0, 0),\n",
       "       datetime.datetime(2016, 1, 6, 0, 0),\n",
       "       datetime.datetime(2015, 11, 22, 0, 0),\n",
       "       datetime.datetime(2016, 1, 7, 0, 0),\n",
       "       datetime.datetime(2016, 1, 27, 0, 0),\n",
       "       datetime.datetime(2016, 3, 10, 0, 0),\n",
       "       datetime.datetime(2016, 1, 10, 0, 0),\n",
       "       datetime.datetime(2016, 2, 13, 0, 0),\n",
       "       datetime.datetime(2016, 3, 1, 0, 0),\n",
       "       datetime.datetime(2016, 2, 15, 0, 0),\n",
       "       datetime.datetime(2016, 1, 8, 0, 0),\n",
       "       datetime.datetime(2016, 2, 20, 0, 0),\n",
       "       datetime.datetime(2016, 2, 21, 0, 0),\n",
       "       datetime.datetime(2016, 2, 23, 0, 0),\n",
       "       datetime.datetime(2016, 1, 30, 0, 0),\n",
       "       datetime.datetime(2015, 11, 21, 0, 0),\n",
       "       datetime.datetime(2016, 3, 8, 0, 0),\n",
       "       datetime.datetime(2016, 1, 9, 0, 0),\n",
       "       datetime.datetime(2016, 1, 1, 0, 0),\n",
       "       datetime.datetime(2016, 1, 5, 0, 0)], dtype=object)"
      ]
     },
     "execution_count": 8,
     "metadata": {},
     "output_type": "execute_result"
    }
   ],
   "source": [
    "df[\"PAID_DATE\"].unique()"
   ]
  },
  {
   "cell_type": "code",
   "execution_count": 9,
   "id": "c2a245e0",
   "metadata": {},
   "outputs": [
    {
     "data": {
      "text/html": [
       "<div>\n",
       "<style scoped>\n",
       "    .dataframe tbody tr th:only-of-type {\n",
       "        vertical-align: middle;\n",
       "    }\n",
       "\n",
       "    .dataframe tbody tr th {\n",
       "        vertical-align: top;\n",
       "    }\n",
       "\n",
       "    .dataframe thead th {\n",
       "        text-align: right;\n",
       "    }\n",
       "</style>\n",
       "<table border=\"1\" class=\"dataframe\">\n",
       "  <thead>\n",
       "    <tr style=\"text-align: right;\">\n",
       "      <th></th>\n",
       "      <th>CUST_ID</th>\n",
       "      <th>PERIOD</th>\n",
       "      <th>DUE_DATE</th>\n",
       "      <th>PAID_DATE</th>\n",
       "      <th>AMOUNT</th>\n",
       "    </tr>\n",
       "  </thead>\n",
       "  <tbody>\n",
       "    <tr>\n",
       "      <th>8</th>\n",
       "      <td>4</td>\n",
       "      <td>2</td>\n",
       "      <td>2015-12-07</td>\n",
       "      <td>2015-12-07 00:00:00</td>\n",
       "      <td>1919</td>\n",
       "    </tr>\n",
       "    <tr>\n",
       "      <th>323</th>\n",
       "      <td>161</td>\n",
       "      <td>2</td>\n",
       "      <td>2015-12-13</td>\n",
       "      <td>2016-02-23 00:00:00</td>\n",
       "      <td>3426</td>\n",
       "    </tr>\n",
       "    <tr>\n",
       "      <th>326</th>\n",
       "      <td>162</td>\n",
       "      <td>2</td>\n",
       "      <td>2015-12-02</td>\n",
       "      <td>2016-01-27 00:00:00</td>\n",
       "      <td>3293</td>\n",
       "    </tr>\n",
       "  </tbody>\n",
       "</table>\n",
       "</div>"
      ],
      "text/plain": [
       "     CUST_ID  PERIOD   DUE_DATE            PAID_DATE  AMOUNT\n",
       "8          4       2 2015-12-07  2015-12-07 00:00:00    1919\n",
       "323      161       2 2015-12-13  2016-02-23 00:00:00    3426\n",
       "326      162       2 2015-12-02  2016-01-27 00:00:00    3293"
      ]
     },
     "execution_count": 9,
     "metadata": {},
     "output_type": "execute_result"
    }
   ],
   "source": [
    "df[df.duplicated()]"
   ]
  },
  {
   "cell_type": "code",
   "execution_count": 10,
   "id": "31acc7fc",
   "metadata": {},
   "outputs": [
    {
     "data": {
      "text/html": [
       "<div>\n",
       "<style scoped>\n",
       "    .dataframe tbody tr th:only-of-type {\n",
       "        vertical-align: middle;\n",
       "    }\n",
       "\n",
       "    .dataframe tbody tr th {\n",
       "        vertical-align: top;\n",
       "    }\n",
       "\n",
       "    .dataframe thead th {\n",
       "        text-align: right;\n",
       "    }\n",
       "</style>\n",
       "<table border=\"1\" class=\"dataframe\">\n",
       "  <thead>\n",
       "    <tr style=\"text-align: right;\">\n",
       "      <th></th>\n",
       "      <th>CUST_ID</th>\n",
       "      <th>PERIOD</th>\n",
       "      <th>DUE_DATE</th>\n",
       "      <th>PAID_DATE</th>\n",
       "      <th>AMOUNT</th>\n",
       "    </tr>\n",
       "  </thead>\n",
       "  <tbody>\n",
       "    <tr>\n",
       "      <th>6</th>\n",
       "      <td>4</td>\n",
       "      <td>1</td>\n",
       "      <td>2015-11-07</td>\n",
       "      <td>2015-11-07 00:00:00</td>\n",
       "      <td>3326</td>\n",
       "    </tr>\n",
       "    <tr>\n",
       "      <th>7</th>\n",
       "      <td>4</td>\n",
       "      <td>2</td>\n",
       "      <td>2015-12-07</td>\n",
       "      <td>2015-12-07 00:00:00</td>\n",
       "      <td>1919</td>\n",
       "    </tr>\n",
       "    <tr>\n",
       "      <th>8</th>\n",
       "      <td>4</td>\n",
       "      <td>2</td>\n",
       "      <td>2015-12-07</td>\n",
       "      <td>2015-12-07 00:00:00</td>\n",
       "      <td>1919</td>\n",
       "    </tr>\n",
       "    <tr>\n",
       "      <th>321</th>\n",
       "      <td>161</td>\n",
       "      <td>1</td>\n",
       "      <td>2015-11-13</td>\n",
       "      <td>2016-01-05 00:00:00</td>\n",
       "      <td>2428</td>\n",
       "    </tr>\n",
       "    <tr>\n",
       "      <th>322</th>\n",
       "      <td>161</td>\n",
       "      <td>2</td>\n",
       "      <td>2015-12-13</td>\n",
       "      <td>2016-02-23 00:00:00</td>\n",
       "      <td>3426</td>\n",
       "    </tr>\n",
       "    <tr>\n",
       "      <th>323</th>\n",
       "      <td>161</td>\n",
       "      <td>2</td>\n",
       "      <td>2015-12-13</td>\n",
       "      <td>2016-02-23 00:00:00</td>\n",
       "      <td>3426</td>\n",
       "    </tr>\n",
       "    <tr>\n",
       "      <th>324</th>\n",
       "      <td>162</td>\n",
       "      <td>1</td>\n",
       "      <td>2015-11-02</td>\n",
       "      <td>2015-12-18 00:00:00</td>\n",
       "      <td>3730</td>\n",
       "    </tr>\n",
       "    <tr>\n",
       "      <th>325</th>\n",
       "      <td>162</td>\n",
       "      <td>2</td>\n",
       "      <td>2015-12-02</td>\n",
       "      <td>2016-01-27 00:00:00</td>\n",
       "      <td>3293</td>\n",
       "    </tr>\n",
       "    <tr>\n",
       "      <th>326</th>\n",
       "      <td>162</td>\n",
       "      <td>2</td>\n",
       "      <td>2015-12-02</td>\n",
       "      <td>2016-01-27 00:00:00</td>\n",
       "      <td>3293</td>\n",
       "    </tr>\n",
       "  </tbody>\n",
       "</table>\n",
       "</div>"
      ],
      "text/plain": [
       "     CUST_ID  PERIOD   DUE_DATE            PAID_DATE  AMOUNT\n",
       "6          4       1 2015-11-07  2015-11-07 00:00:00    3326\n",
       "7          4       2 2015-12-07  2015-12-07 00:00:00    1919\n",
       "8          4       2 2015-12-07  2015-12-07 00:00:00    1919\n",
       "321      161       1 2015-11-13  2016-01-05 00:00:00    2428\n",
       "322      161       2 2015-12-13  2016-02-23 00:00:00    3426\n",
       "323      161       2 2015-12-13  2016-02-23 00:00:00    3426\n",
       "324      162       1 2015-11-02  2015-12-18 00:00:00    3730\n",
       "325      162       2 2015-12-02  2016-01-27 00:00:00    3293\n",
       "326      162       2 2015-12-02  2016-01-27 00:00:00    3293"
      ]
     },
     "execution_count": 10,
     "metadata": {},
     "output_type": "execute_result"
    }
   ],
   "source": [
    "df[df['CUST_ID'].isin([4, 161, 162])]"
   ]
  },
  {
   "cell_type": "markdown",
   "id": "8dbdbe15",
   "metadata": {},
   "source": [
    "##### Bir müşterinin aynı dönem içerisinde birden fazla kaydının olabileceği bilgisi net olarak verilmediği için, business bakış açısı ile bazı kayıtların duplicate olduğuna karar verildi, duplicate veriler elendi."
   ]
  },
  {
   "cell_type": "code",
   "execution_count": 11,
   "id": "9ba2eb3d",
   "metadata": {},
   "outputs": [],
   "source": [
    "df = df.drop_duplicates()"
   ]
  },
  {
   "cell_type": "markdown",
   "id": "4a627b7c",
   "metadata": {},
   "source": [
    "##### 31.03.2016 itibari ile ödeme yapmamış müşterilerin, raporun çekildiği tarihteki gecikme gün sayısını hesaplayabilmek adına eksik olan PAID_DATE'leri 31.03.2016 ile replace edilip Gecikme Gün Sayıları hesaplandı."
   ]
  },
  {
   "cell_type": "code",
   "execution_count": 12,
   "id": "a229ac19",
   "metadata": {},
   "outputs": [],
   "source": [
    "df.loc[df['PAID_DATE'] == '.', 'PAID_DATE'] = np.nan"
   ]
  },
  {
   "cell_type": "code",
   "execution_count": 13,
   "id": "e3fc4c08",
   "metadata": {},
   "outputs": [],
   "source": [
    "df['PAID_DATE'] = pd.to_datetime(df['PAID_DATE'], errors='coerce')"
   ]
  },
  {
   "cell_type": "code",
   "execution_count": 14,
   "id": "cb90235d",
   "metadata": {},
   "outputs": [],
   "source": [
    "df['PAID_DATE'] = df['PAID_DATE'].dt.strftime('%Y-%m-%d')"
   ]
  },
  {
   "cell_type": "code",
   "execution_count": 15,
   "id": "8c58d4b3",
   "metadata": {},
   "outputs": [
    {
     "data": {
      "text/html": [
       "<div>\n",
       "<style scoped>\n",
       "    .dataframe tbody tr th:only-of-type {\n",
       "        vertical-align: middle;\n",
       "    }\n",
       "\n",
       "    .dataframe tbody tr th {\n",
       "        vertical-align: top;\n",
       "    }\n",
       "\n",
       "    .dataframe thead th {\n",
       "        text-align: right;\n",
       "    }\n",
       "</style>\n",
       "<table border=\"1\" class=\"dataframe\">\n",
       "  <thead>\n",
       "    <tr style=\"text-align: right;\">\n",
       "      <th></th>\n",
       "      <th>CUST_ID</th>\n",
       "      <th>PERIOD</th>\n",
       "      <th>DUE_DATE</th>\n",
       "      <th>PAID_DATE</th>\n",
       "      <th>AMOUNT</th>\n",
       "    </tr>\n",
       "  </thead>\n",
       "  <tbody>\n",
       "    <tr>\n",
       "      <th>0</th>\n",
       "      <td>1</td>\n",
       "      <td>1</td>\n",
       "      <td>2015-11-07</td>\n",
       "      <td>2016-01-12</td>\n",
       "      <td>4513</td>\n",
       "    </tr>\n",
       "    <tr>\n",
       "      <th>1</th>\n",
       "      <td>1</td>\n",
       "      <td>2</td>\n",
       "      <td>2015-12-07</td>\n",
       "      <td>NaN</td>\n",
       "      <td>3327</td>\n",
       "    </tr>\n",
       "    <tr>\n",
       "      <th>2</th>\n",
       "      <td>2</td>\n",
       "      <td>1</td>\n",
       "      <td>2015-11-05</td>\n",
       "      <td>2015-12-07</td>\n",
       "      <td>4296</td>\n",
       "    </tr>\n",
       "    <tr>\n",
       "      <th>3</th>\n",
       "      <td>2</td>\n",
       "      <td>2</td>\n",
       "      <td>2015-12-05</td>\n",
       "      <td>2016-03-09</td>\n",
       "      <td>4809</td>\n",
       "    </tr>\n",
       "    <tr>\n",
       "      <th>4</th>\n",
       "      <td>3</td>\n",
       "      <td>1</td>\n",
       "      <td>2015-11-04</td>\n",
       "      <td>2015-12-22</td>\n",
       "      <td>2983</td>\n",
       "    </tr>\n",
       "  </tbody>\n",
       "</table>\n",
       "</div>"
      ],
      "text/plain": [
       "   CUST_ID  PERIOD   DUE_DATE   PAID_DATE  AMOUNT\n",
       "0        1       1 2015-11-07  2016-01-12    4513\n",
       "1        1       2 2015-12-07         NaN    3327\n",
       "2        2       1 2015-11-05  2015-12-07    4296\n",
       "3        2       2 2015-12-05  2016-03-09    4809\n",
       "4        3       1 2015-11-04  2015-12-22    2983"
      ]
     },
     "execution_count": 15,
     "metadata": {},
     "output_type": "execute_result"
    }
   ],
   "source": [
    "df.head()"
   ]
  },
  {
   "cell_type": "code",
   "execution_count": 16,
   "id": "fa7b1e73",
   "metadata": {},
   "outputs": [
    {
     "name": "stderr",
     "output_type": "stream",
     "text": [
      "C:\\Users\\PC\\AppData\\Local\\Temp\\ipykernel_19960\\2811181995.py:1: UserWarning: Parsing '31-03-2016' in DD/MM/YYYY format. Provide format or specify infer_datetime_format=True for consistent parsing.\n",
      "  df['PAID_DATE'].fillna(pd.to_datetime('31-03-2016').date(), inplace=True)\n"
     ]
    }
   ],
   "source": [
    "df['PAID_DATE'].fillna(pd.to_datetime('31-03-2016').date(), inplace=True)"
   ]
  },
  {
   "cell_type": "code",
   "execution_count": 17,
   "id": "da3ac745",
   "metadata": {},
   "outputs": [
    {
     "data": {
      "text/html": [
       "<div>\n",
       "<style scoped>\n",
       "    .dataframe tbody tr th:only-of-type {\n",
       "        vertical-align: middle;\n",
       "    }\n",
       "\n",
       "    .dataframe tbody tr th {\n",
       "        vertical-align: top;\n",
       "    }\n",
       "\n",
       "    .dataframe thead th {\n",
       "        text-align: right;\n",
       "    }\n",
       "</style>\n",
       "<table border=\"1\" class=\"dataframe\">\n",
       "  <thead>\n",
       "    <tr style=\"text-align: right;\">\n",
       "      <th></th>\n",
       "      <th>CUST_ID</th>\n",
       "      <th>PERIOD</th>\n",
       "      <th>DUE_DATE</th>\n",
       "      <th>PAID_DATE</th>\n",
       "      <th>AMOUNT</th>\n",
       "    </tr>\n",
       "  </thead>\n",
       "  <tbody>\n",
       "    <tr>\n",
       "      <th>0</th>\n",
       "      <td>1</td>\n",
       "      <td>1</td>\n",
       "      <td>2015-11-07</td>\n",
       "      <td>2016-01-12</td>\n",
       "      <td>4513</td>\n",
       "    </tr>\n",
       "    <tr>\n",
       "      <th>1</th>\n",
       "      <td>1</td>\n",
       "      <td>2</td>\n",
       "      <td>2015-12-07</td>\n",
       "      <td>2016-03-31</td>\n",
       "      <td>3327</td>\n",
       "    </tr>\n",
       "    <tr>\n",
       "      <th>2</th>\n",
       "      <td>2</td>\n",
       "      <td>1</td>\n",
       "      <td>2015-11-05</td>\n",
       "      <td>2015-12-07</td>\n",
       "      <td>4296</td>\n",
       "    </tr>\n",
       "    <tr>\n",
       "      <th>3</th>\n",
       "      <td>2</td>\n",
       "      <td>2</td>\n",
       "      <td>2015-12-05</td>\n",
       "      <td>2016-03-09</td>\n",
       "      <td>4809</td>\n",
       "    </tr>\n",
       "    <tr>\n",
       "      <th>4</th>\n",
       "      <td>3</td>\n",
       "      <td>1</td>\n",
       "      <td>2015-11-04</td>\n",
       "      <td>2015-12-22</td>\n",
       "      <td>2983</td>\n",
       "    </tr>\n",
       "  </tbody>\n",
       "</table>\n",
       "</div>"
      ],
      "text/plain": [
       "   CUST_ID  PERIOD   DUE_DATE   PAID_DATE  AMOUNT\n",
       "0        1       1 2015-11-07  2016-01-12    4513\n",
       "1        1       2 2015-12-07  2016-03-31    3327\n",
       "2        2       1 2015-11-05  2015-12-07    4296\n",
       "3        2       2 2015-12-05  2016-03-09    4809\n",
       "4        3       1 2015-11-04  2015-12-22    2983"
      ]
     },
     "execution_count": 17,
     "metadata": {},
     "output_type": "execute_result"
    }
   ],
   "source": [
    "df.head()"
   ]
  },
  {
   "cell_type": "markdown",
   "id": "bee20148",
   "metadata": {},
   "source": [
    "##### PAID_DATE - DUE_DATE formülizasyonu ile DELINQ kolonu oluşturuldu, dökümantasyonda belirtilen gruplama formatına uygun şekilde DELINQ_BUCKET altında gruplandı."
   ]
  },
  {
   "cell_type": "code",
   "execution_count": 18,
   "id": "50af35e4",
   "metadata": {},
   "outputs": [],
   "source": [
    "df['DUE_DATE'] = pd.to_datetime(df['DUE_DATE'], format='%d-%m-%Y')\n",
    "df['PAID_DATE'] = pd.to_datetime(df['PAID_DATE'], format='%Y-%m-%d')\n",
    "df['DELINQ'] = (df['PAID_DATE'] - df['DUE_DATE']).dt.days"
   ]
  },
  {
   "cell_type": "code",
   "execution_count": 19,
   "id": "1e153432",
   "metadata": {},
   "outputs": [],
   "source": [
    "bins = [-1, 30, 60, 90, float('inf')]\n",
    "labels = [0, 1, 2, 3]\n",
    "df['DELINQ_BUCKET'] = pd.cut(df['DELINQ'], bins=bins, labels=labels)"
   ]
  },
  {
   "cell_type": "code",
   "execution_count": 20,
   "id": "8ea5cef6",
   "metadata": {},
   "outputs": [
    {
     "data": {
      "text/html": [
       "<div>\n",
       "<style scoped>\n",
       "    .dataframe tbody tr th:only-of-type {\n",
       "        vertical-align: middle;\n",
       "    }\n",
       "\n",
       "    .dataframe tbody tr th {\n",
       "        vertical-align: top;\n",
       "    }\n",
       "\n",
       "    .dataframe thead th {\n",
       "        text-align: right;\n",
       "    }\n",
       "</style>\n",
       "<table border=\"1\" class=\"dataframe\">\n",
       "  <thead>\n",
       "    <tr style=\"text-align: right;\">\n",
       "      <th></th>\n",
       "      <th>CUST_ID</th>\n",
       "      <th>PERIOD</th>\n",
       "      <th>DUE_DATE</th>\n",
       "      <th>PAID_DATE</th>\n",
       "      <th>AMOUNT</th>\n",
       "      <th>DELINQ</th>\n",
       "      <th>DELINQ_BUCKET</th>\n",
       "    </tr>\n",
       "  </thead>\n",
       "  <tbody>\n",
       "    <tr>\n",
       "      <th>0</th>\n",
       "      <td>1</td>\n",
       "      <td>1</td>\n",
       "      <td>2015-11-07</td>\n",
       "      <td>2016-01-12</td>\n",
       "      <td>4513</td>\n",
       "      <td>66</td>\n",
       "      <td>2</td>\n",
       "    </tr>\n",
       "    <tr>\n",
       "      <th>1</th>\n",
       "      <td>1</td>\n",
       "      <td>2</td>\n",
       "      <td>2015-12-07</td>\n",
       "      <td>2016-03-31</td>\n",
       "      <td>3327</td>\n",
       "      <td>115</td>\n",
       "      <td>3</td>\n",
       "    </tr>\n",
       "    <tr>\n",
       "      <th>2</th>\n",
       "      <td>2</td>\n",
       "      <td>1</td>\n",
       "      <td>2015-11-05</td>\n",
       "      <td>2015-12-07</td>\n",
       "      <td>4296</td>\n",
       "      <td>32</td>\n",
       "      <td>1</td>\n",
       "    </tr>\n",
       "    <tr>\n",
       "      <th>3</th>\n",
       "      <td>2</td>\n",
       "      <td>2</td>\n",
       "      <td>2015-12-05</td>\n",
       "      <td>2016-03-09</td>\n",
       "      <td>4809</td>\n",
       "      <td>95</td>\n",
       "      <td>3</td>\n",
       "    </tr>\n",
       "    <tr>\n",
       "      <th>4</th>\n",
       "      <td>3</td>\n",
       "      <td>1</td>\n",
       "      <td>2015-11-04</td>\n",
       "      <td>2015-12-22</td>\n",
       "      <td>2983</td>\n",
       "      <td>48</td>\n",
       "      <td>1</td>\n",
       "    </tr>\n",
       "  </tbody>\n",
       "</table>\n",
       "</div>"
      ],
      "text/plain": [
       "   CUST_ID  PERIOD   DUE_DATE  PAID_DATE  AMOUNT  DELINQ DELINQ_BUCKET\n",
       "0        1       1 2015-11-07 2016-01-12    4513      66             2\n",
       "1        1       2 2015-12-07 2016-03-31    3327     115             3\n",
       "2        2       1 2015-11-05 2015-12-07    4296      32             1\n",
       "3        2       2 2015-12-05 2016-03-09    4809      95             3\n",
       "4        3       1 2015-11-04 2015-12-22    2983      48             1"
      ]
     },
     "execution_count": 20,
     "metadata": {},
     "output_type": "execute_result"
    }
   ],
   "source": [
    "df.head()"
   ]
  },
  {
   "cell_type": "markdown",
   "id": "a166d305",
   "metadata": {},
   "source": [
    "##### Dönemler arası adet bazında geçiş oranlarını gösteren matris oluşturuldu."
   ]
  },
  {
   "cell_type": "code",
   "execution_count": 21,
   "id": "d7d280c5",
   "metadata": {},
   "outputs": [],
   "source": [
    "# Geçiş matrisini oluşturma\n",
    "transition_matrix = pd.crosstab(df['DELINQ_BUCKET'].shift(), df['DELINQ_BUCKET'], normalize='index')\n",
    "\n",
    "# Geçiş oranlarını yüzde cinsinden göstermek için formatlama\n",
    "transition_matrix = transition_matrix.applymap(lambda x: f\"{x:.2%}\")"
   ]
  },
  {
   "cell_type": "code",
   "execution_count": 22,
   "id": "69348dad",
   "metadata": {},
   "outputs": [
    {
     "data": {
      "text/html": [
       "<div>\n",
       "<style scoped>\n",
       "    .dataframe tbody tr th:only-of-type {\n",
       "        vertical-align: middle;\n",
       "    }\n",
       "\n",
       "    .dataframe tbody tr th {\n",
       "        vertical-align: top;\n",
       "    }\n",
       "\n",
       "    .dataframe thead th {\n",
       "        text-align: right;\n",
       "    }\n",
       "</style>\n",
       "<table border=\"1\" class=\"dataframe\">\n",
       "  <thead>\n",
       "    <tr style=\"text-align: right;\">\n",
       "      <th>DELINQ_BUCKET</th>\n",
       "      <th>0</th>\n",
       "      <th>1</th>\n",
       "      <th>2</th>\n",
       "      <th>3</th>\n",
       "    </tr>\n",
       "    <tr>\n",
       "      <th>DELINQ_BUCKET</th>\n",
       "      <th></th>\n",
       "      <th></th>\n",
       "      <th></th>\n",
       "      <th></th>\n",
       "    </tr>\n",
       "  </thead>\n",
       "  <tbody>\n",
       "    <tr>\n",
       "      <th>0</th>\n",
       "      <td>73.12%</td>\n",
       "      <td>17.50%</td>\n",
       "      <td>8.12%</td>\n",
       "      <td>1.25%</td>\n",
       "    </tr>\n",
       "    <tr>\n",
       "      <th>1</th>\n",
       "      <td>8.70%</td>\n",
       "      <td>30.43%</td>\n",
       "      <td>44.93%</td>\n",
       "      <td>15.94%</td>\n",
       "    </tr>\n",
       "    <tr>\n",
       "      <th>2</th>\n",
       "      <td>37.50%</td>\n",
       "      <td>12.50%</td>\n",
       "      <td>25.00%</td>\n",
       "      <td>25.00%</td>\n",
       "    </tr>\n",
       "    <tr>\n",
       "      <th>3</th>\n",
       "      <td>48.28%</td>\n",
       "      <td>41.38%</td>\n",
       "      <td>10.34%</td>\n",
       "      <td>0.00%</td>\n",
       "    </tr>\n",
       "  </tbody>\n",
       "</table>\n",
       "</div>"
      ],
      "text/plain": [
       "DELINQ_BUCKET       0       1       2       3\n",
       "DELINQ_BUCKET                                \n",
       "0              73.12%  17.50%   8.12%   1.25%\n",
       "1               8.70%  30.43%  44.93%  15.94%\n",
       "2              37.50%  12.50%  25.00%  25.00%\n",
       "3              48.28%  41.38%  10.34%   0.00%"
      ]
     },
     "execution_count": 22,
     "metadata": {},
     "output_type": "execute_result"
    }
   ],
   "source": [
    "transition_matrix"
   ]
  },
  {
   "cell_type": "markdown",
   "id": "1af1175a",
   "metadata": {},
   "source": [
    "Matrisin süreçlerde nasıl kullanılabileceğine ilişkin bilgiler: \n",
    "###### Gecikme durumlarının genel seyri: Geçiş matrisi, gecikme durumlarının bir dönemden diğerine nasıl değiştiğini gösterir. Bu sayede, müşterilerin kredi gecikme durumlarının zaman içinde nasıl evrildiğini anlayabiliriz.\n",
    "\n",
    "###### Öngörü ve risk analizi: Geçiş matrisi, müşterilerin belirli bir gecikme durumundan diğerine geçiş olasılıklarını gösterir. Bu bilgi, müşterilerin gelecekteki ödeme performansını tahmin etmek ve risk analizi yapmak için kullanılabilir. Örneğin, yüksek bir geçiş oranı olan bir geçiş, müşterinin daha yüksek bir risk altında olabileceğini gösterebilir.\n",
    "\n",
    "###### Süreç iyileştirmesi: Geçiş matrisi, süreçteki zayıf noktaları belirlemek ve iyileştirme fırsatlarını tanımlamak için kullanılabilir. Örneğin, yüksek bir geçiş oranı veya belirli bir geçişin düşük olması, belirli bir aşamada müşteri memnuniyetini etkileyen sorunları gösterebilir.\n",
    "\n",
    "Bu bilgileri kullanarak, iş süreçlerini analiz edebilir, müşteri davranışlarını anlayabilir ve süreç iyileştirmeleri yapabiliriz. Geçiş matrisi, karar verme süreçlerinde rehberlik edebilecek değerli bilgiler sunar.\n",
    " "
   ]
  },
  {
   "cell_type": "markdown",
   "id": "06c5b88d",
   "metadata": {},
   "source": [
    "##### AMOUNT Değerinin dönemler arası geçişlerde anlamlı bir etkisinin olup olmadığı analiz edildi"
   ]
  },
  {
   "cell_type": "code",
   "execution_count": 23,
   "id": "2fdb9acf",
   "metadata": {},
   "outputs": [
    {
     "data": {
      "image/png": "[encoded data removed]",
      "text/plain": [
       "<Figure size 576x432 with 1 Axes>"
      ]
     },
     "metadata": {
      "needs_background": "light"
     },
     "output_type": "display_data"
    }
   ],
   "source": [
    "import seaborn as sns\n",
    "import matplotlib.pyplot as plt\n",
    "\n",
    "# Gecikme gün sayısı kategorilerine göre AMOUNT değerlerinin ortalamasını hesapla\n",
    "mean_amount_by_delinq = df.groupby('DELINQ_BUCKET')['AMOUNT'].mean().reset_index()\n",
    "\n",
    "# Çubuk grafiği çizdir\n",
    "plt.figure(figsize=(8, 6))\n",
    "sns.barplot(data=mean_amount_by_delinq, x='DELINQ_BUCKET', y='AMOUNT')\n",
    "plt.xlabel('DELINQ_BUCKET')\n",
    "plt.ylabel('Mean AMOUNT')\n",
    "plt.title('Mean AMOUNT by DELINQ_BUCKET')\n",
    "plt.show()\n"
   ]
  },
  {
   "cell_type": "code",
   "execution_count": 24,
   "id": "2ad65410",
   "metadata": {},
   "outputs": [
    {
     "data": {
      "text/plain": [
       "DELINQ_BUCKET\n",
       "0    3136.345679\n",
       "1    3302.028571\n",
       "2    3301.156250\n",
       "3    3258.413793\n",
       "Name: AMOUNT, dtype: float64"
      ]
     },
     "execution_count": 24,
     "metadata": {},
     "output_type": "execute_result"
    }
   ],
   "source": [
    "mean_amount_by_delinq = df.groupby('DELINQ_BUCKET')['AMOUNT'].mean()\n",
    "mean_amount_by_delinq"
   ]
  },
  {
   "cell_type": "code",
   "execution_count": 25,
   "id": "d4fba31f",
   "metadata": {},
   "outputs": [
    {
     "name": "stdout",
     "output_type": "stream",
     "text": [
      "DELINQ_BUCKET        0        1        2        3\n",
      "DELINQ_BUCKET                                    \n",
      "0              3176.41  3477.04  3133.46  2204.50\n",
      "1              3102.67  3009.71  3239.74  3967.36\n",
      "2              3106.04  3045.38  3617.19  2902.75\n",
      "3              2908.07  3547.92  2573.00      nan\n"
     ]
    }
   ],
   "source": [
    "transition_matrix = pd.crosstab(df['DELINQ_BUCKET'].shift(), df['DELINQ_BUCKET'], values=df['AMOUNT'], aggfunc='mean')\n",
    "\n",
    "transition_matrix = transition_matrix.applymap(lambda x: f\"{x:.2f}\")\n",
    "\n",
    "print(transition_matrix)\n"
   ]
  },
  {
   "cell_type": "markdown",
   "id": "198ff540",
   "metadata": {},
   "source": [
    "###### AMOUNT Değerlerinin gecikme gün sayısı gruplarına doğrudan bir etkisi tespit edilememiştir."
   ]
  },
  {
   "cell_type": "code",
   "execution_count": null,
   "id": "57680e29",
   "metadata": {},
   "outputs": [],
   "source": []
  }
 ],
 "metadata": {
  "kernelspec": {
   "display_name": "Python 3 (ipykernel)",
   "language": "python",
   "name": "python3"
  },
  "language_info": {
   "codemirror_mode": {
    "name": "ipython",
    "version": 3
   },
   "file_extension": ".py",
   "mimetype": "text/x-python",
   "name": "python",
   "nbconvert_exporter": "python",
   "pygments_lexer": "ipython3",
   "version": "3.9.12"
  }
 },
 "nbformat": 4,
 "nbformat_minor": 5
}
